{
 "cells": [
  {
   "cell_type": "code",
   "execution_count": 1,
   "id": "842873ae",
   "metadata": {},
   "outputs": [
    {
     "name": "stderr",
     "output_type": "stream",
     "text": [
      "2025-03-05 16:03:42.655878: I tensorflow/core/platform/cpu_feature_guard.cc:193] This TensorFlow binary is optimized with oneAPI Deep Neural Network Library (oneDNN) to use the following CPU instructions in performance-critical operations:  AVX2 AVX512F AVX512_VNNI FMA\n",
      "To enable them in other operations, rebuild TensorFlow with the appropriate compiler flags.\n",
      "2025-03-05 16:03:43.741925: I tensorflow/core/util/port.cc:104] oneDNN custom operations are on. You may see slightly different numerical results due to floating-point round-off errors from different computation orders. To turn them off, set the environment variable `TF_ENABLE_ONEDNN_OPTS=0`.\n",
      "2025-03-05 16:03:44.097286: W tensorflow/compiler/xla/stream_executor/platform/default/dso_loader.cc:64] Could not load dynamic library 'libcudart.so.11.0'; dlerror: libcudart.so.11.0: cannot open shared object file: No such file or directory\n",
      "2025-03-05 16:03:44.097326: I tensorflow/compiler/xla/stream_executor/cuda/cudart_stub.cc:29] Ignore above cudart dlerror if you do not have a GPU set up on your machine.\n",
      "2025-03-05 16:03:46.498034: W tensorflow/compiler/xla/stream_executor/platform/default/dso_loader.cc:64] Could not load dynamic library 'libnvinfer.so.7'; dlerror: libnvinfer.so.7: cannot open shared object file: No such file or directory\n",
      "2025-03-05 16:03:46.498326: W tensorflow/compiler/xla/stream_executor/platform/default/dso_loader.cc:64] Could not load dynamic library 'libnvinfer_plugin.so.7'; dlerror: libnvinfer_plugin.so.7: cannot open shared object file: No such file or directory\n",
      "2025-03-05 16:03:46.498347: W tensorflow/compiler/tf2tensorrt/utils/py_utils.cc:38] TF-TRT Warning: Cannot dlopen some TensorRT libraries. If you would like to use Nvidia GPU with TensorRT, please make sure the missing libraries mentioned above are installed properly.\n"
     ]
    }
   ],
   "source": [
    "#import necessary lib.\n",
    "import numpy as np\n",
    "from tensorflow.keras.models import Sequential\n",
    "from tensorflow.keras.layers import Conv2D, MaxPooling2D, Flatten, Dense\n",
    "from tensorflow.keras.preprocessing.image import ImageDataGenerator\n",
    "from tensorflow.keras.optimizers import RMSprop"
   ]
  },
  {
   "cell_type": "code",
   "execution_count": 2,
   "id": "4ddedddc",
   "metadata": {},
   "outputs": [
    {
     "data": {
      "text/plain": [
       "'/home/amlan/Desktop/OneDrive/major project/Multi Cancer'"
      ]
     },
     "execution_count": 2,
     "metadata": {},
     "output_type": "execute_result"
    }
   ],
   "source": [
    "pwd"
   ]
  },
  {
   "cell_type": "code",
   "execution_count": 3,
   "id": "926c8964",
   "metadata": {},
   "outputs": [],
   "source": [
    "# paths to the training and testing directories\n",
    "train_data_dir = '/home/amlan/Desktop/OneDrive/major project/Multi Cancer/Traning'\n",
    "test_data_dir = '/home/amlan/Desktop/OneDrive/major project/Multi Cancer/Testing'"
   ]
  },
  {
   "cell_type": "code",
   "execution_count": 4,
   "id": "f53e26d7",
   "metadata": {},
   "outputs": [],
   "source": [
    "#height and width\n",
    "img_width, img_height = 128, 128"
   ]
  },
  {
   "cell_type": "code",
   "execution_count": 5,
   "id": "7622ab24",
   "metadata": {},
   "outputs": [],
   "source": [
    "#no of classes\n",
    "num_classes = 8"
   ]
  },
  {
   "cell_type": "code",
   "execution_count": 6,
   "id": "ad3392ec",
   "metadata": {},
   "outputs": [],
   "source": [
    "# Number of training and testing samples\n",
    "num_train_samples = 79010\n",
    "num_test_samples = 50992"
   ]
  },
  {
   "cell_type": "code",
   "execution_count": 7,
   "id": "1d125f60",
   "metadata": {},
   "outputs": [],
   "source": [
    "# Set up data augmentation for training data\n",
    "train_datagen = ImageDataGenerator(rescale=1/255,shear_range=0.2,zoom_range=0.2,horizontal_flip=True)"
   ]
  },
  {
   "cell_type": "code",
   "execution_count": 8,
   "id": "850312a3",
   "metadata": {},
   "outputs": [],
   "source": [
    "# Set up data augmentation for testing data\n",
    "test_datagen = ImageDataGenerator(rescale=1/255)"
   ]
  },
  {
   "cell_type": "code",
   "execution_count": 9,
   "id": "c2bc85e1",
   "metadata": {},
   "outputs": [
    {
     "name": "stdout",
     "output_type": "stream",
     "text": [
      "Found 79010 images belonging to 8 classes.\n"
     ]
    }
   ],
   "source": [
    "# Load and augment training data\n",
    "train_generator = train_datagen.flow_from_directory(train_data_dir, target_size=(img_width, img_height),batch_size=32,class_mode='categorical')"
   ]
  },
  {
   "cell_type": "code",
   "execution_count": 10,
   "id": "11562b88",
   "metadata": {},
   "outputs": [
    {
     "name": "stdout",
     "output_type": "stream",
     "text": [
      "Found 50992 images belonging to 8 classes.\n"
     ]
    }
   ],
   "source": [
    "# Load test data without augmentation\n",
    "test_generator = test_datagen.flow_from_directory(test_data_dir,target_size=(img_width, img_height),batch_size=32,class_mode='categorical',shuffle=False)"
   ]
  },
  {
   "cell_type": "code",
   "execution_count": 11,
   "id": "6af22c1a",
   "metadata": {},
   "outputs": [
    {
     "name": "stderr",
     "output_type": "stream",
     "text": [
      "2025-03-05 16:03:50.365501: W tensorflow/compiler/xla/stream_executor/platform/default/dso_loader.cc:64] Could not load dynamic library 'libcuda.so.1'; dlerror: libcuda.so.1: cannot open shared object file: No such file or directory\n",
      "2025-03-05 16:03:50.367745: W tensorflow/compiler/xla/stream_executor/cuda/cuda_driver.cc:265] failed call to cuInit: UNKNOWN ERROR (303)\n",
      "2025-03-05 16:03:50.367799: I tensorflow/compiler/xla/stream_executor/cuda/cuda_diagnostics.cc:156] kernel driver does not appear to be running on this host (amnand): /proc/driver/nvidia/version does not exist\n",
      "2025-03-05 16:03:50.372032: I tensorflow/core/platform/cpu_feature_guard.cc:193] This TensorFlow binary is optimized with oneAPI Deep Neural Network Library (oneDNN) to use the following CPU instructions in performance-critical operations:  AVX2 AVX512F AVX512_VNNI FMA\n",
      "To enable them in other operations, rebuild TensorFlow with the appropriate compiler flags.\n"
     ]
    }
   ],
   "source": [
    "#build the cnn model architechure\n",
    "model = Sequential()\n",
    "model.add(Conv2D(32, (3, 3), activation='relu', input_shape=(img_width, img_height, 3)))\n",
    "model.add(MaxPooling2D(pool_size=(2, 2)))\n",
    "model.add(Conv2D(64, (3, 3), activation='relu'))\n",
    "model.add(MaxPooling2D(pool_size=(2, 2)))\n",
    "model.add(Conv2D(64, (3, 3), activation='relu'))\n",
    "model.add(MaxPooling2D(pool_size=(2, 2)))\n",
    "model.add(Conv2D(64, (3, 3), activation='relu'))\n",
    "model.add(MaxPooling2D(pool_size=(2, 2)))\n",
    "model.add(Flatten())\n",
    "\n",
    "\n",
    "model.add(Dense(128, activation='relu'))\n",
    "model.add(Dense(200, activation='relu'))\n",
    "model.add(Dense(num_classes, activation='softmax'))\n"
   ]
  },
  {
   "cell_type": "code",
   "execution_count": 12,
   "id": "798aa105",
   "metadata": {},
   "outputs": [],
   "source": [
    "#compile the model\n",
    "model.compile(optimizer='adam', loss='binary_crossentropy', metrics=['accuracy'])"
   ]
  },
  {
   "cell_type": "code",
   "execution_count": null,
   "id": "6286a1d3",
   "metadata": {
    "scrolled": true
   },
   "outputs": [
    {
     "name": "stdout",
     "output_type": "stream",
     "text": [
      "Epoch 1/10\n",
      "1760/2469 [====================>.........] - ETA: 3:05 - loss: 0.0578 - accuracy: 0.9061"
     ]
    }
   ],
   "source": [
    "#train the model\n",
    "history = model.fit(train_generator,steps_per_epoch=num_train_samples // 32,epochs=10)"
   ]
  },
  {
   "cell_type": "code",
   "execution_count": null,
   "id": "6e709a9e",
   "metadata": {},
   "outputs": [],
   "source": [
    "import pandas as pd\n",
    "history_df = pd.DataFrame(history.history)"
   ]
  },
  {
   "cell_type": "code",
   "execution_count": null,
   "id": "2e4a8b93",
   "metadata": {},
   "outputs": [],
   "source": [
    "#evaluate the loss and accuracy\n",
    "loss, accuracy = model.evaluate(test_generator,steps=num_test_samples // 32)\n",
    "print(\"Train loss:\", loss)\n",
    "print(\"Train accuracy:\",accuracy)"
   ]
  },
  {
   "cell_type": "code",
   "execution_count": null,
   "id": "6d7f8082",
   "metadata": {},
   "outputs": [],
   "source": [
    "import matplotlib.pyplot as plt\n",
    "import seaborn as sns\n",
    "\n",
    "# Plot testing accuracy and loss\n",
    "plt.bar(['Train Accuracy', 'Train Loss'], [accuracy, loss])\n",
    "plt.title('Train Loss and Train Accuracy')\n",
    "plt.ylabel('Value')\n",
    "plt.show()"
   ]
  },
  {
   "cell_type": "code",
   "execution_count": null,
   "id": "52903645",
   "metadata": {},
   "outputs": [],
   "source": [
    "#plt.figure(figuresize=(10, 6))\n",
    "sns.heatmap(history_df.corr(), annot=True, cmap='coolwarm', fmt=\".2f\", linewidth=0.5)\n",
    "plt.title('Correlation Heatmap of Training Metrics')\n",
    "plt.show()"
   ]
  },
  {
   "cell_type": "code",
   "execution_count": null,
   "id": "71508bf6",
   "metadata": {},
   "outputs": [],
   "source": [
    "sns.pairplot(history_df)\n",
    "plt.suptitle('Pairplot of Training Metrics', y=1.02)\n",
    "plt.show()"
   ]
  },
  {
   "cell_type": "code",
   "execution_count": null,
   "id": "e4a5047d",
   "metadata": {},
   "outputs": [],
   "source": [
    "import matplotlib.pyplot as plt\n",
    "import seaborn as sns\n",
    "import cv2"
   ]
  },
  {
   "cell_type": "code",
   "execution_count": null,
   "id": "13eb4ed3",
   "metadata": {},
   "outputs": [],
   "source": [
    "img = cv2.imread(r\"/home/amlan/Desktop/OneDrive/major project/Multi Cancer/Traning/Lung and Colon Cancer/lung_aca/lung_aca_2038.jpg\")\n",
    "img = cv2.resize(img,(128,128))\n",
    "img_array = np.array(img)\n",
    "img_array.shape"
   ]
  },
  {
   "cell_type": "code",
   "execution_count": null,
   "id": "daabc666",
   "metadata": {},
   "outputs": [],
   "source": [
    "img_array = img_array.reshape(1,128,128,3)\n",
    "img_array.shape"
   ]
  },
  {
   "cell_type": "code",
   "execution_count": null,
   "id": "b4194409",
   "metadata": {},
   "outputs": [],
   "source": [
    "from tensorflow.keras.preprocessing import image\n",
    "img = image.load_img(r\"/home/amlan/Desktop/OneDrive/major project/Multi Cancer/Traning/Lung and Colon Cancer/lung_aca/lung_aca_2038.jpg\")\n",
    "plt.imshow(img,interpolation='nearest')\n",
    "plt.show()"
   ]
  },
  {
   "cell_type": "code",
   "execution_count": null,
   "id": "fbd9e948",
   "metadata": {},
   "outputs": [],
   "source": [
    "a = model.predict(img_array)\n",
    "indices = a.argmax()\n",
    "indices\n",
    " # Write names based on predicted class\n",
    "if indices == 0:\n",
    "    name = 'ALL'\n",
    "elif indices == 1:\n",
    "    name = 'Brain Cancer'\n",
    "elif indices == 2:\n",
    "    name = 'Breast Cancer'\n",
    "elif indices == 3:\n",
    "    name = 'Cervical Cancer'\n",
    "elif indices == 4:\n",
    "    name = 'Kidney Cancer'\n",
    "elif indices == 5:\n",
    "    name = 'Lung and Colon Cancer'\n",
    "elif indices == 6:\n",
    "    name = 'Lymphoma'\n",
    "elif indices == 7:\n",
    "    name = 'Oral Cancer'\n",
    "else:\n",
    "        name = 'unknown'\n",
    "print(name)"
   ]
  },
  {
   "cell_type": "code",
   "execution_count": null,
   "id": "c816089e",
   "metadata": {},
   "outputs": [],
   "source": [
    "import numpy as np\n",
    "import matplotlib.pyplot as plt\n",
    "from sklearn.metrics import confusion_matrix, ConfusionMatrixDisplay\n",
    "\n",
    "# Predict probabilities for the test data\n",
    "y_pred_prob = model.predict(test_generator)\n",
    "\n",
    "# Predicted class labels\n",
    "y_pred = np.argmax(y_pred_prob, axis=1)\n",
    "\n",
    "# True class labels\n",
    "y_true = test_generator.classes\n",
    "\n",
    "# Generate confusion matrix\n",
    "conf_matrix = confusion_matrix(y_true, y_pred)\n",
    "\n",
    "# Plot confusion matrix\n",
    "labels = ['ALL', 'Brain Cancer', 'Breast Cancer', 'Cervical Cancer', 'Kidney Cancer', 'Lung and Colon Cancer', 'Lymphoma', 'Oral Cancer']\n",
    "disp = ConfusionMatrixDisplay(confusion_matrix=conf_matrix, display_labels=labels)\n",
    "disp.plot(cmap='Reds')\n",
    "plt.title('Confusion Matrix')\n",
    "plt.show()\n"
   ]
  },
  {
   "cell_type": "code",
   "execution_count": null,
   "id": "70f068aa",
   "metadata": {},
   "outputs": [],
   "source": []
  },
  {
   "cell_type": "code",
   "execution_count": null,
   "id": "e212cd26",
   "metadata": {},
   "outputs": [],
   "source": []
  },
  {
   "cell_type": "code",
   "execution_count": null,
   "id": "bbc258e5",
   "metadata": {},
   "outputs": [],
   "source": []
  },
  {
   "cell_type": "code",
   "execution_count": null,
   "id": "8121cc34",
   "metadata": {},
   "outputs": [],
   "source": []
  },
  {
   "cell_type": "code",
   "execution_count": null,
   "id": "e91756ab",
   "metadata": {},
   "outputs": [],
   "source": [
    "\n",
    "\n",
    "\n",
    "\n",
    "\n",
    "\n",
    "\n",
    "\n",
    "\n",
    "\n",
    "\n",
    "\n",
    "\n",
    "\n"
   ]
  },
  {
   "cell_type": "code",
   "execution_count": null,
   "id": "ed6afb22",
   "metadata": {},
   "outputs": [],
   "source": []
  },
  {
   "cell_type": "code",
   "execution_count": null,
   "id": "cd6d5e0e",
   "metadata": {},
   "outputs": [],
   "source": []
  },
  {
   "cell_type": "code",
   "execution_count": null,
   "id": "fca642b6",
   "metadata": {},
   "outputs": [],
   "source": []
  },
  {
   "cell_type": "code",
   "execution_count": null,
   "id": "76253fe3",
   "metadata": {},
   "outputs": [],
   "source": []
  },
  {
   "cell_type": "code",
   "execution_count": null,
   "id": "7c3212fc",
   "metadata": {},
   "outputs": [],
   "source": []
  },
  {
   "cell_type": "code",
   "execution_count": null,
   "id": "9b0248b8",
   "metadata": {},
   "outputs": [],
   "source": []
  },
  {
   "cell_type": "code",
   "execution_count": null,
   "id": "6bb28be7",
   "metadata": {},
   "outputs": [],
   "source": []
  },
  {
   "cell_type": "code",
   "execution_count": null,
   "id": "32bad862",
   "metadata": {},
   "outputs": [],
   "source": []
  },
  {
   "cell_type": "code",
   "execution_count": null,
   "id": "169abbc8",
   "metadata": {},
   "outputs": [],
   "source": []
  },
  {
   "cell_type": "code",
   "execution_count": null,
   "id": "2f2fc61f",
   "metadata": {},
   "outputs": [],
   "source": []
  },
  {
   "cell_type": "code",
   "execution_count": null,
   "id": "914112c3",
   "metadata": {},
   "outputs": [],
   "source": []
  },
  {
   "cell_type": "code",
   "execution_count": null,
   "id": "65c35ecf",
   "metadata": {},
   "outputs": [],
   "source": []
  },
  {
   "cell_type": "code",
   "execution_count": null,
   "id": "f48ea4de",
   "metadata": {},
   "outputs": [],
   "source": []
  }
 ],
 "metadata": {
  "kernelspec": {
   "display_name": "Python 3 (ipykernel)",
   "language": "python",
   "name": "python3"
  },
  "language_info": {
   "codemirror_mode": {
    "name": "ipython",
    "version": 3
   },
   "file_extension": ".py",
   "mimetype": "text/x-python",
   "name": "python",
   "nbconvert_exporter": "python",
   "pygments_lexer": "ipython3",
   "version": "3.10.12"
  }
 },
 "nbformat": 4,
 "nbformat_minor": 5
}
